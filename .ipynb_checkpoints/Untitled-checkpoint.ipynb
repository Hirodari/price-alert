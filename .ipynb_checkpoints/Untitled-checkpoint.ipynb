{
 "cells": [
  {
   "cell_type": "code",
   "execution_count": 1,
   "metadata": {},
   "outputs": [],
   "source": [
    "maps = map(lambda: x**2, range(5))"
   ]
  },
  {
   "cell_type": "code",
   "execution_count": 24,
   "metadata": {},
   "outputs": [],
   "source": [
    "uri = \"https://www.johnlewis.com/2019-apple-ipad-mini-apple-a12-ios-7-9-inch-wi-fi-cellular-256gb/silver/p4069225\"\n",
    "tag = \"p\"\n",
    "query = {\"class\": \"price price--large\"}"
   ]
  },
  {
   "cell_type": "code",
   "execution_count": 25,
   "metadata": {},
   "outputs": [
    {
     "name": "stdout",
     "output_type": "stream",
     "text": [
      "624.00\n"
     ]
    }
   ],
   "source": [
    "page = requests.get(uri).content\n",
    "soup = BeautifulSoup(page, \"html.parser\")\n",
    "price = soup.find(tag, query).get_text(strip=True)\n",
    "if len(price) > 10:\n",
    "    price = re.findall(r'[\\d]+[.,\\d]+', price)[-1]\n",
    "    print(price)\n",
    "else:\n",
    "    print(price[1:])"
   ]
  },
  {
   "cell_type": "code",
   "execution_count": 17,
   "metadata": {},
   "outputs": [
    {
     "name": "stdout",
     "output_type": "stream",
     "text": [
      "7\n",
      "£624.00\n"
     ]
    },
    {
     "data": {
      "text/plain": [
       "['624.00']"
      ]
     },
     "execution_count": 17,
     "metadata": {},
     "output_type": "execute_result"
    }
   ],
   "source": [
    "uri = \"https://www.johnlewis.com/2019-apple-ipad-mini-apple-a12-ios-7-9-inch-wi-fi-cellular-256gb/silver/p4069225\"\n",
    "tag = \"p\"\n",
    "query = {\"class\": \"price price--large\"}\n",
    "page = requests.get(uri).content\n",
    "soup = BeautifulSoup(page, \"html.parser\")\n",
    "price = soup.find(tag, query).get_text(strip=True)\n",
    "print(len(price))\n",
    "print(price)\n",
    "re_price = re.findall(r'[\\d]+[.,\\d]+', price)\n",
    "re_price"
   ]
  },
  {
   "cell_type": "code",
   "execution_count": null,
   "metadata": {},
   "outputs": [],
   "source": []
  }
 ],
 "metadata": {
  "kernelspec": {
   "display_name": "Python 3",
   "language": "python",
   "name": "python3"
  },
  "language_info": {
   "codemirror_mode": {
    "name": "ipython",
    "version": 3
   },
   "file_extension": ".py",
   "mimetype": "text/x-python",
   "name": "python",
   "nbconvert_exporter": "python",
   "pygments_lexer": "ipython3",
   "version": "3.7.3"
  }
 },
 "nbformat": 4,
 "nbformat_minor": 2
}
